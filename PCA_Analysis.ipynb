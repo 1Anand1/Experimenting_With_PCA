{
 "cells": [
  {
   "cell_type": "code",
   "execution_count": 1,
   "metadata": {},
   "outputs": [],
   "source": [
    "#ignore the warnings\n",
    "import warnings\n",
    "warnings.filterwarnings('ignore')\n",
    "\n",
    "#importing required libraries\n",
    "import numpy as np\n",
    "import pandas as pd\n",
    "import matplotlib.pyplot as plt\n",
    "from matplotlib.colors import ListedColormap\n",
    "\n",
    "#Importing the required ML libraries\n",
    "from sklearn.preprocessing import StandardScaler\n",
    "from sklearn.model_selection import train_test_split\n",
    "from sklearn.linear_model import LogisticRegression\n",
    "from sklearn.metrics import confusion_matrix\n",
    "\n",
    "# Importing the PCA\n",
    "from sklearn.decomposition import PCA"
   ]
  },
  {
   "cell_type": "code",
   "execution_count": 2,
   "metadata": {},
   "outputs": [],
   "source": [
    "# Importing the required data\n",
    "wine_file=r'C:\\Users\\DELL\\Desktop\\MLStudy\\Kaggle_Competitions\\wine.csv'\n",
    "df=pd.read_csv(wine_file)"
   ]
  },
  {
   "cell_type": "code",
   "execution_count": 3,
   "metadata": {},
   "outputs": [],
   "source": [
    "#Making 2 subsets of the data\n",
    "X=df.iloc[:,:13]\n",
    "y=df.iloc[:,13]"
   ]
  },
  {
   "cell_type": "code",
   "execution_count": 4,
   "metadata": {},
   "outputs": [],
   "source": [
    "# Splitting the data into train and test\n",
    "X_train,X_test,y_train,y_test=train_test_split(X,y,random_state=100,train_size=0.8)"
   ]
  },
  {
   "cell_type": "code",
   "execution_count": 5,
   "metadata": {},
   "outputs": [],
   "source": [
    "# Scaling the data\n",
    "standard_scaler=StandardScaler()\n",
    "X_train=standard_scaler.fit_transform(X_train)\n",
    "X_test=standard_scaler.transform(X_test)\n"
   ]
  },
  {
   "cell_type": "code",
   "execution_count": 6,
   "metadata": {},
   "outputs": [],
   "source": [
    "# Initialzing the PCA with 2 proncipal components only\n",
    "pca=PCA(n_components=2)"
   ]
  },
  {
   "cell_type": "code",
   "execution_count": 7,
   "metadata": {},
   "outputs": [],
   "source": [
    "# Fitting & transforming the pca on the train & then using the same for transforming the test dataset\n",
    "X_train=pca.fit_transform(X_train)\n",
    "X_test=pca.transform(X_test)"
   ]
  },
  {
   "cell_type": "code",
   "execution_count": 8,
   "metadata": {},
   "outputs": [
    {
     "data": {
      "text/plain": [
       "array([0.36457748, 0.20234607])"
      ]
     },
     "execution_count": 8,
     "metadata": {},
     "output_type": "execute_result"
    }
   ],
   "source": [
    "# Checking the explained variance\n",
    "explained_variance=pca.explained_variance_ratio_\n",
    "explained_variance"
   ]
  },
  {
   "cell_type": "code",
   "execution_count": 9,
   "metadata": {},
   "outputs": [
    {
     "data": {
      "text/plain": [
       "LogisticRegression(random_state=100)"
      ]
     },
     "execution_count": 9,
     "metadata": {},
     "output_type": "execute_result"
    }
   ],
   "source": [
    "# Instantiating the logistic regression\n",
    "lr=LogisticRegression(random_state=100)\n",
    "lr.fit(X_train,y_train)"
   ]
  },
  {
   "cell_type": "code",
   "execution_count": 10,
   "metadata": {},
   "outputs": [],
   "source": [
    "# Predicting the output results for the test dataset\n",
    "y_predict=lr.predict(X_test)"
   ]
  },
  {
   "cell_type": "code",
   "execution_count": 11,
   "metadata": {},
   "outputs": [
    {
     "data": {
      "text/plain": [
       "array([[ 8,  0,  0],\n",
       "       [ 1, 14,  0],\n",
       "       [ 0,  0, 13]], dtype=int64)"
      ]
     },
     "execution_count": 11,
     "metadata": {},
     "output_type": "execute_result"
    }
   ],
   "source": [
    "# Creating the confusion matrix\n",
    "cm =confusion_matrix(y_true=y_test,y_pred=y_predict)\n",
    "cm"
   ]
  },
  {
   "cell_type": "markdown",
   "metadata": {},
   "source": [
    "### Visualizations --> Thanks to Geekforgeeks"
   ]
  },
  {
   "cell_type": "code",
   "execution_count": 12,
   "metadata": {},
   "outputs": [
    {
     "data": {
      "image/png": "[encoded data removed]",
      "text/plain": [
       "<Figure size 432x288 with 1 Axes>"
      ]
     },
     "metadata": {
      "needs_background": "light"
     },
     "output_type": "display_data"
    }
   ],
   "source": [
    "# Predicting the training set\n",
    "# result through scatter plot\n",
    "from matplotlib.colors import ListedColormap\n",
    "\n",
    "X_set, y_set = X_train, y_train\n",
    "X1, X2 = np.meshgrid(np.arange(start=X_set[:, 0].min() - 1,\n",
    "                               stop=X_set[:, 0].max() + 1, step=0.01),\n",
    "                     np.arange(start=X_set[:, 1].min() - 1,\n",
    "                               stop=X_set[:, 1].max() + 1, step=0.01))\n",
    "\n",
    "plt.contourf(X1, X2, lr.predict(np.array([X1.ravel(),\n",
    "                                                  X2.ravel()]).T).reshape(X1.shape), alpha=0.75,\n",
    "             cmap=ListedColormap(('yellow', 'white', 'aquamarine')))\n",
    "\n",
    "plt.xlim(X1.min(), X1.max())\n",
    "plt.ylim(X2.min(), X2.max())\n",
    "\n",
    "for i, j in enumerate(np.unique(y_set)):\n",
    "    plt.scatter(X_set[y_set == j, 0], X_set[y_set == j, 1],\n",
    "                color=ListedColormap(('red', 'green', 'blue'))(i), label=j)\n",
    "\n",
    "plt.title('Logistic Regression (Training set)')\n",
    "plt.xlabel('PC1')  # for Xlabel\n",
    "plt.ylabel('PC2')  # for Ylabel\n",
    "plt.legend()  # to show legend\n",
    "\n",
    "# show scatter plot\n",
    "plt.show()\n"
   ]
  },
  {
   "cell_type": "code",
   "execution_count": 13,
   "metadata": {},
   "outputs": [
    {
     "data": {
      "image/png": "[encoded data removed]",
      "text/plain": [
       "<Figure size 432x288 with 1 Axes>"
      ]
     },
     "metadata": {
      "needs_background": "light"
     },
     "output_type": "display_data"
    }
   ],
   "source": [
    "# Visualising the Test set results through scatter plot\n",
    "X_set, y_set = X_test, y_test\n",
    "\n",
    "X1, X2 = np.meshgrid(np.arange(start=X_set[:, 0].min() - 1,\n",
    "                               stop=X_set[:, 0].max() + 1, step=0.01),\n",
    "                     np.arange(start=X_set[:, 1].min() - 1,\n",
    "                               stop=X_set[:, 1].max() + 1, step=0.01))\n",
    "\n",
    "plt.contourf(X1, X2, lr.predict(np.array([X1.ravel(),\n",
    "                                                  X2.ravel()]).T).reshape(X1.shape), alpha=0.75,\n",
    "             cmap=ListedColormap(('yellow', 'white', 'aquamarine')))\n",
    "\n",
    "plt.xlim(X1.min(), X1.max())\n",
    "plt.ylim(X2.min(), X2.max())\n",
    "\n",
    "for i, j in enumerate(np.unique(y_set)):\n",
    "    plt.scatter(X_set[y_set == j, 0], X_set[y_set == j, 1],\n",
    "                color=ListedColormap(('red', 'green', 'blue'))(i), label=j)\n",
    "\n",
    "# title for scatter plot\n",
    "plt.title('Logistic Regression (Test set)')\n",
    "plt.xlabel('PC1')  # for Xlabel\n",
    "plt.ylabel('PC2')  # for Ylabel\n",
    "plt.legend()\n",
    "\n",
    "# show scatter plot\n",
    "plt.show()\n"
   ]
  },
  {
   "cell_type": "code",
   "execution_count": 14,
   "metadata": {},
   "outputs": [
    {
     "data": {
      "image/png": "[encoded data removed]",
      "text/plain": [
       "<Figure size 432x288 with 1 Axes>"
      ]
     },
     "metadata": {
      "needs_background": "light"
     },
     "output_type": "display_data"
    }
   ],
   "source": [
    "# plot the first two principal components with labels\n",
    "colors = [\"r\", \"g\", \"b\"]\n",
    "labels = [\"Class 1\", \"Class 2\", \"Class 3\"]\n",
    "for i, color, label in zip(np.unique(y), colors, labels):\n",
    "    plt.scatter(X_train[y_train == i, 0], X_train[y_train == i, 1], color=color, label=label)\n",
    "plt.xlabel(\"Principal Component 1\")\n",
    "plt.ylabel(\"Principal Component 2\")\n",
    "plt.legend()\n",
    "plt.show()\n"
   ]
  }
 ],
 "metadata": {
  "kernelspec": {
   "display_name": "Python 3",
   "language": "python",
   "name": "python3"
  },
  "language_info": {
   "codemirror_mode": {
    "name": "ipython",
    "version": 3
   },
   "file_extension": ".py",
   "mimetype": "text/x-python",
   "name": "python",
   "nbconvert_exporter": "python",
   "pygments_lexer": "ipython3",
   "version": "3.8.3"
  }
 },
 "nbformat": 4,
 "nbformat_minor": 2
}
